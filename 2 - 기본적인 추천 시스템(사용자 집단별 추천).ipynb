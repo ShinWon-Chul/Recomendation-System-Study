{
 "cells": [
  {
   "cell_type": "code",
   "execution_count": 1,
   "id": "0fb9d5ee",
   "metadata": {},
   "outputs": [],
   "source": [
    "import numpy as np\n",
    "import pandas as pd\n",
    "from sklearn.model_selection import train_test_split"
   ]
  },
  {
   "cell_type": "markdown",
   "id": "b4811648",
   "metadata": {},
   "source": [
    "#### movieLens 100K 데이터 불러오기\n",
    "* u.user : 사용자 데이터\n",
    "* u.item : 영화에 대한 데이터\n",
    "    * movie_id : 영화 id\n",
    "    * title : 제목 \n",
    "    * release date : 개봉날짜\n",
    "    * 'unknown' 부터 'Western'까지 19가지의 변수로 0또는 1로 장르를 표현\n",
    "        * 예를들어 액션 영화는 'Action'에 1로 표시되며 나머지 18개 장르 변수는 0으로 표시\n",
    "* u.data : 영화평가(rating) 데이터\n",
    "    * user_id : 사용자 id\n",
    "    * movie_id : 영화 id\n",
    "    * rating : 평점 (1~5)\n",
    "    * timestamp : 평가한 연도/날짜/시간"
   ]
  },
  {
   "cell_type": "code",
   "execution_count": 2,
   "id": "9e687fa0",
   "metadata": {},
   "outputs": [],
   "source": [
    "# 데이터 읽어 오기 \n",
    "u_cols = ['user_id', 'age', 'sex', 'occupation', 'zip_code']\n",
    "users = pd.read_csv('./Data/u.user', sep='|', names=u_cols, encoding='latin-1')\n",
    "i_cols = ['movie_id', 'title', 'release date', 'video release date', 'IMDB URL', 'unknown', \n",
    "          'Action', 'Adventure', 'Animation', 'Children\\'s', 'Comedy', 'Crime', 'Documentary', \n",
    "          'Drama', 'Fantasy', 'Film-Noir', 'Horror', 'Musical', 'Mystery', 'Romance', 'Sci-Fi', \n",
    "          'Thriller', 'War', 'Western']\n",
    "movies = pd.read_csv('./Data/u.item', sep='|', names=i_cols, encoding='latin-1')\n",
    "r_cols = ['user_id', 'movie_id', 'rating', 'timestamp']\n",
    "ratings = pd.read_csv('./Data/u.data', sep='\\t', names=r_cols, encoding='latin-1')\n",
    "\n",
    "# timestamp 제거 \n",
    "ratings = ratings.drop('timestamp', axis=1)\n",
    "# movie ID와 title 빼고 다른 데이터 제거\n",
    "movies = movies[['movie_id', 'title']]"
   ]
  },
  {
   "cell_type": "code",
   "execution_count": 3,
   "id": "6c8032a1",
   "metadata": {},
   "outputs": [],
   "source": [
    "# train, test set 분리\n",
    "x = ratings.copy()\n",
    "y = ratings['user_id']\n",
    "# 계층적 데이터 추출 옵션 (분류 모델에서 추천!)\n",
    "# 여러 층으로 분할후 각 층별로 렌덤 데이터 추출, 원래 데이터의 분포와 유사하게 데이터 추출\n",
    "x_train, x_test, y_train, y_test = train_test_split(x, y, test_size=0.25, stratify=y)"
   ]
  },
  {
   "cell_type": "code",
   "execution_count": 4,
   "id": "ff0dcb4f",
   "metadata": {},
   "outputs": [
    {
     "data": {
      "text/html": [
       "<div>\n",
       "<style scoped>\n",
       "    .dataframe tbody tr th:only-of-type {\n",
       "        vertical-align: middle;\n",
       "    }\n",
       "\n",
       "    .dataframe tbody tr th {\n",
       "        vertical-align: top;\n",
       "    }\n",
       "\n",
       "    .dataframe thead th {\n",
       "        text-align: right;\n",
       "    }\n",
       "</style>\n",
       "<table border=\"1\" class=\"dataframe\">\n",
       "  <thead>\n",
       "    <tr style=\"text-align: right;\">\n",
       "      <th></th>\n",
       "      <th>user_id</th>\n",
       "      <th>movie_id</th>\n",
       "      <th>rating</th>\n",
       "    </tr>\n",
       "  </thead>\n",
       "  <tbody>\n",
       "    <tr>\n",
       "      <th>55741</th>\n",
       "      <td>734</td>\n",
       "      <td>222</td>\n",
       "      <td>1</td>\n",
       "    </tr>\n",
       "    <tr>\n",
       "      <th>69643</th>\n",
       "      <td>876</td>\n",
       "      <td>19</td>\n",
       "      <td>5</td>\n",
       "    </tr>\n",
       "    <tr>\n",
       "      <th>10447</th>\n",
       "      <td>347</td>\n",
       "      <td>173</td>\n",
       "      <td>2</td>\n",
       "    </tr>\n",
       "    <tr>\n",
       "      <th>63244</th>\n",
       "      <td>846</td>\n",
       "      <td>172</td>\n",
       "      <td>4</td>\n",
       "    </tr>\n",
       "    <tr>\n",
       "      <th>99131</th>\n",
       "      <td>919</td>\n",
       "      <td>1514</td>\n",
       "      <td>2</td>\n",
       "    </tr>\n",
       "    <tr>\n",
       "      <th>...</th>\n",
       "      <td>...</td>\n",
       "      <td>...</td>\n",
       "      <td>...</td>\n",
       "    </tr>\n",
       "    <tr>\n",
       "      <th>7114</th>\n",
       "      <td>95</td>\n",
       "      <td>505</td>\n",
       "      <td>3</td>\n",
       "    </tr>\n",
       "    <tr>\n",
       "      <th>76229</th>\n",
       "      <td>488</td>\n",
       "      <td>89</td>\n",
       "      <td>4</td>\n",
       "    </tr>\n",
       "    <tr>\n",
       "      <th>42815</th>\n",
       "      <td>639</td>\n",
       "      <td>512</td>\n",
       "      <td>2</td>\n",
       "    </tr>\n",
       "    <tr>\n",
       "      <th>96468</th>\n",
       "      <td>664</td>\n",
       "      <td>58</td>\n",
       "      <td>4</td>\n",
       "    </tr>\n",
       "    <tr>\n",
       "      <th>72913</th>\n",
       "      <td>902</td>\n",
       "      <td>176</td>\n",
       "      <td>5</td>\n",
       "    </tr>\n",
       "  </tbody>\n",
       "</table>\n",
       "<p>75000 rows × 3 columns</p>\n",
       "</div>"
      ],
      "text/plain": [
       "       user_id  movie_id  rating\n",
       "55741      734       222       1\n",
       "69643      876        19       5\n",
       "10447      347       173       2\n",
       "63244      846       172       4\n",
       "99131      919      1514       2\n",
       "...        ...       ...     ...\n",
       "7114        95       505       3\n",
       "76229      488        89       4\n",
       "42815      639       512       2\n",
       "96468      664        58       4\n",
       "72913      902       176       5\n",
       "\n",
       "[75000 rows x 3 columns]"
      ]
     },
     "execution_count": 4,
     "metadata": {},
     "output_type": "execute_result"
    }
   ],
   "source": [
    "x_train"
   ]
  },
  {
   "cell_type": "markdown",
   "id": "6d5cd27d",
   "metadata": {},
   "source": [
    "#### 정확도 계산\n",
    "예측이 정확할 수록 실제값과 예측값 사이의 차이가 줄어들기 때문에 RMSE(Root Mean Squared Error)가 작을수록 정확한 추천 시스템이라고 할 수 있다.  \n",
    "RMSE를 수식으로 표시하면 아래와 같다.\n",
    "$$RMSE = \\sqrt{\\frac{1}{N}\\sum_{i=1}^{N}(y_i-\\widehat{y_i})^2}$$"
   ]
  },
  {
   "cell_type": "code",
   "execution_count": 6,
   "id": "7a062da3",
   "metadata": {},
   "outputs": [],
   "source": [
    "# 정확도(RMSE)를 계산하는 함수\n",
    "def RMSE(y_true, y_pred):\n",
    "    return np.sqrt(np.mean((np.array(y_true) - np.array(y_pred))**2))\n",
    "\n",
    "# 모델별 RMSE를 계산하는 함수 \n",
    "def score(model):\n",
    "    # 예측 대상인 test set에 있는 사용자(user_id)와 영화(movie_id)를 pair로 짝을 맞춰 데이터를 만든다.\n",
    "    id_pairs = zip(x_test['user_id'], x_test['movie_id'])\n",
    "    # 모든 사용자-영화 짝에 대해서 주어진 예측 모델에 의한 예측값을 계산해 y_pred에 저장한다.\n",
    "    y_pred = np.array([model(user, movie) for (user, movie) in id_pairs])\n",
    "    y_true = np.array(x_test['rating'])\n",
    "    # 얻어진 예측값 배열과 실제값(rating)에 대한 RMSE를 계산하여 반환한다.\n",
    "    return RMSE(y_true, y_pred)"
   ]
  },
  {
   "cell_type": "markdown",
   "id": "e97bc5a5",
   "metadata": {},
   "source": [
    "#### 인기제품 방식(best-seller)"
   ]
  },
  {
   "cell_type": "code",
   "execution_count": 7,
   "id": "3ba0402f",
   "metadata": {},
   "outputs": [
    {
     "data": {
      "text/plain": [
       "1.0265500759292276"
      ]
     },
     "execution_count": 7,
     "metadata": {},
     "output_type": "execute_result"
    }
   ],
   "source": [
    "# 전체 평균으로 예측치를 계산하는 기본 모델\n",
    "def best_seller(user_id, movie_id):\n",
    "    try:\n",
    "        rating = train_mean[movie_id]\n",
    "    except:\n",
    "        # test_set에는 존재하는데 train set에는 존재하지 않아 평점평균을 구할수 없는 오류 방지\n",
    "        # 해당 영화가 train_set에 없어 평점평균을 구할수 없다면 3.0을 반환\n",
    "        rating = 3.0\n",
    "    return rating\n",
    "\n",
    "train_mean = x_train.groupby(['movie_id'])['rating'].mean()\n",
    "score(best_seller)"
   ]
  },
  {
   "cell_type": "markdown",
   "id": "517ee281",
   "metadata": {},
   "source": [
    "#### 사용자 집단별 추천(gender에 따른 추천)"
   ]
  },
  {
   "cell_type": "code",
   "execution_count": 9,
   "id": "5e6d6bc0",
   "metadata": {},
   "outputs": [],
   "source": [
    "# Full matrix를 사용자 데이터와 merge\n",
    "merged_ratings = pd.merge(x_train, users)\n",
    "users = users.set_index('user_id')\n",
    "# gender별 평점평균 계산\n",
    "g_mean = merged_ratings[['movie_id', 'sex', 'rating']].groupby(['movie_id', 'sex'])['rating'].mean()"
   ]
  },
  {
   "cell_type": "code",
   "execution_count": 13,
   "id": "303669b1",
   "metadata": {},
   "outputs": [
    {
     "data": {
      "text/plain": [
       "movie_id  sex\n",
       "1         F      3.741176\n",
       "          M      3.932271\n",
       "2         F      3.428571\n",
       "          M      3.208791\n",
       "3         F      2.500000\n",
       "                   ...   \n",
       "1675      M      3.000000\n",
       "1676      M      2.000000\n",
       "1677      F      3.000000\n",
       "1680      M      2.000000\n",
       "1682      M      3.000000\n",
       "Name: rating, Length: 3048, dtype: float64"
      ]
     },
     "execution_count": 13,
     "metadata": {},
     "output_type": "execute_result"
    }
   ],
   "source": [
    "g_mean"
   ]
  },
  {
   "cell_type": "code",
   "execution_count": 14,
   "id": "3c827396",
   "metadata": {},
   "outputs": [
    {
     "data": {
      "text/plain": [
       "1.0350262241206742"
      ]
     },
     "execution_count": 14,
     "metadata": {},
     "output_type": "execute_result"
    }
   ],
   "source": [
    "# gender별 평균을 예측치로 돌려주는 함수 \n",
    "def cf_gender(user_id, movie_id):\n",
    "    if movie_id in rating_matrix:\n",
    "        gender = users.loc[user_id]['sex']\n",
    "        if gender in g_mean[movie_id]:\n",
    "            gender_rating = g_mean[movie_id][gender]\n",
    "        else:\n",
    "            gender_rating = 3.0\n",
    "    else:\n",
    "        gender_rating = 3.0\n",
    "    return gender_rating\n",
    "\n",
    "score(cf_gender)"
   ]
  },
  {
   "cell_type": "code",
   "execution_count": null,
   "id": "60410fd0",
   "metadata": {},
   "outputs": [],
   "source": []
  }
 ],
 "metadata": {
  "kernelspec": {
   "display_name": "Python 3 (ipykernel)",
   "language": "python",
   "name": "python3"
  },
  "language_info": {
   "codemirror_mode": {
    "name": "ipython",
    "version": 3
   },
   "file_extension": ".py",
   "mimetype": "text/x-python",
   "name": "python",
   "nbconvert_exporter": "python",
   "pygments_lexer": "ipython3",
   "version": "3.8.12"
  }
 },
 "nbformat": 4,
 "nbformat_minor": 5
}
